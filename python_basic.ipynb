{
 "cells": [
  {
   "cell_type": "code",
   "execution_count": 6,
   "metadata": {},
   "outputs": [
    {
     "name": "stdout",
     "output_type": "stream",
     "text": [
      "n =  0\n",
      "n =  Hello World\n",
      "n =  0\n",
      "m =  abc\n",
      "a =  10\n",
      "b =  15\n",
      "c =  20\n"
     ]
    }
   ],
   "source": [
    "# Variables are dynamically typed\n",
    "\n",
    "n = 0\n",
    "print('n = ', n)\n",
    "n = \"Hello World\"\n",
    "print('n = ', n)\n",
    "\n",
    "# Multiple assignments\n",
    "\n",
    "n, m = 0, \"abc\"\n",
    "print('n = ', n)\n",
    "print('m = ', m)\n",
    "\n",
    "a, b, c = 10, 15, 20\n",
    "print('a = ', a)\n",
    "print('b = ', b)\n",
    "print('c = ', c)"
   ]
  },
  {
   "cell_type": "code",
   "execution_count": 7,
   "metadata": {},
   "outputs": [
    {
     "name": "stdout",
     "output_type": "stream",
     "text": [
      "n =  12\n"
     ]
    }
   ],
   "source": [
    "# Increment\n",
    "n = 10\n",
    "n = n + 1\n",
    "n += 1\n",
    "# n++ is not allowed, this give a syntax error\n",
    "\n",
    "print('n = ', n)"
   ]
  },
  {
   "cell_type": "code",
   "execution_count": 8,
   "metadata": {},
   "outputs": [
    {
     "name": "stdout",
     "output_type": "stream",
     "text": [
      "n =  None\n"
     ]
    }
   ],
   "source": [
    "# In python None is null (Absence of value)\n",
    "\n",
    "n = 4 \n",
    "n = None\n",
    "print('n = ', n)"
   ]
  },
  {
   "cell_type": "code",
   "execution_count": 9,
   "metadata": {},
   "outputs": [
    {
     "name": "stdout",
     "output_type": "stream",
     "text": [
      "n =  9\n"
     ]
    }
   ],
   "source": [
    "# if statements don't require parentheses or curly braces\n",
    "\n",
    "n = 10\n",
    "if n > 2:\n",
    "    n -= 1\n",
    "elif n == 2:\n",
    "    n *= 2\n",
    "else:\n",
    "    n +=2\n",
    "print('n = ', n)    "
   ]
  },
  {
   "cell_type": "code",
   "execution_count": 10,
   "metadata": {},
   "outputs": [
    {
     "name": "stdout",
     "output_type": "stream",
     "text": [
      "n =  10\n"
     ]
    }
   ],
   "source": [
    "# Parantheses are needed for multiline conditions.\n",
    "n, m = 5, 2\n",
    "\n",
    "if ((n > 2 and n != m ) or n == m):\n",
    "    n *= 2\n",
    "print('n = ', n)\n"
   ]
  },
  {
   "cell_type": "code",
   "execution_count": 11,
   "metadata": {},
   "outputs": [
    {
     "name": "stdout",
     "output_type": "stream",
     "text": [
      "0\n",
      "1\n",
      "2\n",
      "3\n",
      "4\n"
     ]
    }
   ],
   "source": [
    "# while loops\n",
    "n = 0\n",
    "\n",
    "while n < 5:\n",
    "    print(n)\n",
    "    n += 1"
   ]
  },
  {
   "cell_type": "code",
   "execution_count": 12,
   "metadata": {},
   "outputs": [
    {
     "name": "stdout",
     "output_type": "stream",
     "text": [
      "0\n",
      "1\n",
      "2\n",
      "3\n",
      "4\n"
     ]
    }
   ],
   "source": [
    "# For loops\n",
    "# looping from 1 to 4\n",
    "\n",
    "for i in range(5):\n",
    "    print(i)"
   ]
  },
  {
   "cell_type": "code",
   "execution_count": 13,
   "metadata": {},
   "outputs": [
    {
     "name": "stdout",
     "output_type": "stream",
     "text": [
      "2\n",
      "3\n",
      "4\n",
      "5\n"
     ]
    }
   ],
   "source": [
    "# Eg-2: Lopping from i= 2 to i= 5\n",
    "\n",
    "for i in range(2,6):\n",
    "    print(i)"
   ]
  },
  {
   "cell_type": "code",
   "execution_count": 15,
   "metadata": {},
   "outputs": [
    {
     "name": "stdout",
     "output_type": "stream",
     "text": [
      "7\n",
      "6\n",
      "5\n",
      "4\n",
      "3\n",
      "2\n"
     ]
    }
   ],
   "source": [
    " # Eg-3: if we want to go in rverse direction, i = 7 to i = 2\n",
    "\n",
    "for i in range(7, 1, -1):\n",
    "    print(i)"
   ]
  },
  {
   "cell_type": "code",
   "execution_count": 23,
   "metadata": {},
   "outputs": [
    {
     "name": "stdout",
     "output_type": "stream",
     "text": [
      "2.5\n",
      "2\n",
      "-2\n",
      "-1\n"
     ]
    }
   ],
   "source": [
    "## Division is decimal division vy default\n",
    "print(5/2)\n",
    "\n",
    "# using // for integer division\n",
    "\n",
    "print(5//2)\n",
    "\n",
    "# negative integer division\n",
    "\n",
    "print(-3//2)\n",
    "\n",
    "print(int(-3/2) )# the desired way"
   ]
  },
  {
   "cell_type": "code",
   "execution_count": 32,
   "metadata": {},
   "outputs": [
    {
     "name": "stdout",
     "output_type": "stream",
     "text": [
      "1\n",
      "The wrong output ---> 2\n",
      "-1.0\n"
     ]
    }
   ],
   "source": [
    "# Modulo Operatior\n",
    "\n",
    "print(10%3) # ---> 1 this gives a remainder\n",
    "\n",
    "print (\"The wrong output --->\",-10%3) # ---> 1 thia result is unexpected\n",
    "\n",
    "# to fix the above issue, we can import the math library\n",
    "\n",
    "import math\n",
    "\n",
    "print(math.fmod(-10,3))"
   ]
  },
  {
   "cell_type": "code",
   "execution_count": 36,
   "metadata": {},
   "outputs": [
    {
     "name": "stdout",
     "output_type": "stream",
     "text": [
      "1\n",
      "2\n",
      "1.4142135623730951\n",
      "8.0\n",
      "inf\n",
      "-inf\n",
      "True\n"
     ]
    }
   ],
   "source": [
    "# More math helpers\n",
    "\n",
    "print(math.floor(3/2))\n",
    "print(math.ceil(3/2))\n",
    "print(math.sqrt(2))\n",
    "print(math.pow(2, 3))\n",
    "\n",
    "# Max / Min Int\n",
    "\n",
    "print(float(\"inf\")) # Max integer\n",
    "print(float(\"-inf\")) # Min integer\n",
    "\n",
    "print(math.pow(2, 500) < float(\"inf\")) \n"
   ]
  },
  {
   "cell_type": "code",
   "execution_count": 58,
   "metadata": {},
   "outputs": [
    {
     "name": "stdout",
     "output_type": "stream",
     "text": [
      "Array Created:  [1, 2, 3, 4, 5, 6, 7, 8, 9]\n",
      "Adding elements into the array:  [1, 2, 3, 4, 5, 6, 7, 8, 9, 11, 23]\n",
      "Popping elements from the array:  [1, 2, 3, 4, 5, 6, 7, 8, 9, 11]\n",
      "Added 43 at the position 3 in the array:  [1, 2, 3, 43, 4, 5, 6, 7, 8, 9, 11]\n",
      "Element at the 5th index:  5\n",
      "The Updated array:  [1, 2, 3, 43, 4, 5, 6, 109, 8, 9, 11]\n",
      "Element at the 7th index:  109\n",
      "the initialized Array:  [1, 1, 1, 1, 1]\n",
      "The last element of the array:  11\n",
      "The second last element of the array:  9\n",
      "elements of indexes 1 to 5 of the array:  [2, 3, 43, 4]\n",
      "elements of indexes uptill 5 of the array:  [1, 2, 3, 43, 4]\n",
      "The element a is: 5, The element b is: 6 and the element c is: 7\n",
      "1\n",
      "2\n",
      "3\n",
      "43\n",
      "4\n",
      "5\n",
      "6\n",
      "109\n",
      "8\n",
      "9\n",
      "11\n",
      "1\n",
      "2\n",
      "3\n",
      "43\n",
      "4\n",
      "5\n",
      "6\n",
      "109\n",
      "8\n",
      "9\n",
      "11\n",
      "0 1\n",
      "1 2\n",
      "2 3\n",
      "3 43\n",
      "4 4\n",
      "5 5\n",
      "6 6\n",
      "7 109\n",
      "8 8\n",
      "9 9\n",
      "10 11\n",
      "1 2\n",
      "3 4\n",
      "5 6\n",
      "The Reversed Array:  [11, 9, 8, 109, 6, 5, 4, 43, 3, 2, 1]\n",
      "The Sorted Array:  [1, 2, 3, 4, 5, 6, 8, 9, 11, 43, 109]\n",
      "The Array Sorted in descending order:  [109, 43, 11, 9, 8, 6, 5, 4, 3, 2, 1]\n"
     ]
    }
   ],
   "source": [
    "# Arrays\n",
    "\n",
    "arr = [1,2,3,4,5,6,7,8,9]\n",
    "print(\"Array Created: \", arr)\n",
    "\n",
    "# Arrays can be used as a stack \n",
    "\n",
    "# Pushing elements into the arr\n",
    "\n",
    "arr.append(11)\n",
    "arr.append(23)\n",
    "print(\"Adding elements into the array: \", arr)\n",
    "\n",
    "# Popping elements out of the array --> The popping happens from the last element\n",
    "\n",
    "arr.pop()\n",
    "print(\"Popping elements from the array: \", arr)\n",
    "\n",
    "## inserting elements into the array\n",
    "\n",
    "ele = 43\n",
    "position = 3\n",
    "arr.insert(position, ele)\n",
    "print(f\"Added {ele} at the position {position} in the array: \", arr)\n",
    "\n",
    "# indexing the array\n",
    "\n",
    "print(\"Element at the 5th index: \",arr[5])\n",
    "\n",
    "## Assigning values at a particular index of the array\n",
    "\n",
    "arr[7] = 109\n",
    "\n",
    "print(\"The Updated array: \", arr)\n",
    "\n",
    "print(\"Element at the 7th index: \",arr[7])\n",
    "\n",
    "\n",
    "# initialize the arr of size n with default value of 1\n",
    "\n",
    "n = 5\n",
    "\n",
    "arr_n = [1]*5\n",
    "print(\"the initialized Array: \", arr_n)\n",
    "\n",
    "# Careful : -1 is not out of bounds, it gives the last element in pyhton\n",
    "\n",
    "print(\"The last element of the array: \",arr[-1])\n",
    "\n",
    "# Indexing second to last element of the array\n",
    "\n",
    "print(\"The second last element of the array: \",arr[-2])\n",
    "\n",
    "\n",
    "# Slicing the array\n",
    "\n",
    "# Slicing the array from indexing 1 to 5\n",
    "\n",
    "print(\"elements of indexes 1 to 5 of the array: \", arr[1:5]) # Here index 5 is not included\n",
    "\n",
    "print(\"elements of indexes uptill 5 of the array: \", arr[:5]) # Here index 5 is not included\n",
    "\n",
    "# Upacking the array\n",
    "\n",
    "a, b, c = [5, 6, 7] # Here while unpacking we have to ensure that, the number of elements in the array should be same as the number of variables\n",
    "print(f\"The element a is: {a}, The element b is: {b} and the element c is: {c}\")\n",
    "\n",
    "# Looping through the arrays\n",
    "\n",
    "# Looping using index\n",
    "\n",
    "for i in range(len(arr)):\n",
    "    print(arr[i])\n",
    "\n",
    "# Looping with using the index\n",
    "\n",
    "for num in arr:\n",
    "    print(num)\n",
    "\n",
    "# Looping with index and value\n",
    "\n",
    "for i, num in enumerate(arr):\n",
    "    print(i, num)\n",
    "\n",
    "# Loop through multiple Arrays simultaneously with unpacking\n",
    "\n",
    "nums1 = [1,3,5]\n",
    "nums2 = [2,4,6]\n",
    "\n",
    "for n1, n2 in zip(nums1, nums2):\n",
    "    print(n1, n2)\n",
    "\n",
    "# Reversing an array\n",
    "arr.reverse()\n",
    "print(\"The Reversed Array: \", arr)\n",
    "\n",
    "# Sorting an array\n",
    "arr.sort()\n",
    "print(\"The Sorted Array: \", arr)\n",
    "\n",
    "# To sor the array into the descending order\n",
    "\n",
    "arr.sort(reverse=True)\n",
    "print(\"The Array Sorted in descending order: \", arr)"
   ]
  },
  {
   "cell_type": "code",
   "execution_count": null,
   "metadata": {},
   "outputs": [],
   "source": []
  }
 ],
 "metadata": {
  "kernelspec": {
   "display_name": "Python 3",
   "language": "python",
   "name": "python3"
  },
  "language_info": {
   "codemirror_mode": {
    "name": "ipython",
    "version": 3
   },
   "file_extension": ".py",
   "mimetype": "text/x-python",
   "name": "python",
   "nbconvert_exporter": "python",
   "pygments_lexer": "ipython3",
   "version": "3.11.3"
  },
  "orig_nbformat": 4
 },
 "nbformat": 4,
 "nbformat_minor": 2
}
