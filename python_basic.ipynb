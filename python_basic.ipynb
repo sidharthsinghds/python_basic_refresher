{
 "cells": [
  {
   "cell_type": "code",
   "execution_count": 6,
   "metadata": {},
   "outputs": [
    {
     "name": "stdout",
     "output_type": "stream",
     "text": [
      "n =  0\n",
      "n =  Hello World\n",
      "n =  0\n",
      "m =  abc\n",
      "a =  10\n",
      "b =  15\n",
      "c =  20\n"
     ]
    }
   ],
   "source": [
    "# Variables are dynamically typed\n",
    "\n",
    "n = 0\n",
    "print('n = ', n)\n",
    "n = \"Hello World\"\n",
    "print('n = ', n)\n",
    "\n",
    "# Multiple assignments\n",
    "\n",
    "n, m = 0, \"abc\"\n",
    "print('n = ', n)\n",
    "print('m = ', m)\n",
    "\n",
    "a, b, c = 10, 15, 20\n",
    "print('a = ', a)\n",
    "print('b = ', b)\n",
    "print('c = ', c)"
   ]
  },
  {
   "cell_type": "code",
   "execution_count": 7,
   "metadata": {},
   "outputs": [
    {
     "name": "stdout",
     "output_type": "stream",
     "text": [
      "n =  12\n"
     ]
    }
   ],
   "source": [
    "# Increment\n",
    "n = 10\n",
    "n = n + 1\n",
    "n += 1\n",
    "# n++ is not allowed, this give a syntax error\n",
    "\n",
    "print('n = ', n)"
   ]
  },
  {
   "cell_type": "code",
   "execution_count": 8,
   "metadata": {},
   "outputs": [
    {
     "name": "stdout",
     "output_type": "stream",
     "text": [
      "n =  None\n"
     ]
    }
   ],
   "source": [
    "# In python None is null (Absence of value)\n",
    "\n",
    "n = 4 \n",
    "n = None\n",
    "print('n = ', n)"
   ]
  },
  {
   "cell_type": "code",
   "execution_count": 9,
   "metadata": {},
   "outputs": [
    {
     "name": "stdout",
     "output_type": "stream",
     "text": [
      "n =  9\n"
     ]
    }
   ],
   "source": [
    "# if statements don't require parentheses or curly braces\n",
    "\n",
    "n = 10\n",
    "if n > 2:\n",
    "    n -= 1\n",
    "elif n == 2:\n",
    "    n *= 2\n",
    "else:\n",
    "    n +=2\n",
    "print('n = ', n)    "
   ]
  },
  {
   "cell_type": "code",
   "execution_count": 10,
   "metadata": {},
   "outputs": [
    {
     "name": "stdout",
     "output_type": "stream",
     "text": [
      "n =  10\n"
     ]
    }
   ],
   "source": [
    "# Parantheses are needed for multiline conditions.\n",
    "n, m = 5, 2\n",
    "\n",
    "if ((n > 2 and n != m ) or n == m):\n",
    "    n *= 2\n",
    "print('n = ', n)\n"
   ]
  },
  {
   "cell_type": "code",
   "execution_count": 11,
   "metadata": {},
   "outputs": [
    {
     "name": "stdout",
     "output_type": "stream",
     "text": [
      "0\n",
      "1\n",
      "2\n",
      "3\n",
      "4\n"
     ]
    }
   ],
   "source": [
    "# while loops\n",
    "n = 0\n",
    "\n",
    "while n < 5:\n",
    "    print(n)\n",
    "    n += 1"
   ]
  },
  {
   "cell_type": "code",
   "execution_count": 12,
   "metadata": {},
   "outputs": [
    {
     "name": "stdout",
     "output_type": "stream",
     "text": [
      "0\n",
      "1\n",
      "2\n",
      "3\n",
      "4\n"
     ]
    }
   ],
   "source": [
    "# For loops\n",
    "# looping from 1 to 4\n",
    "\n",
    "for i in range(5):\n",
    "    print(i)"
   ]
  },
  {
   "cell_type": "code",
   "execution_count": 13,
   "metadata": {},
   "outputs": [
    {
     "name": "stdout",
     "output_type": "stream",
     "text": [
      "2\n",
      "3\n",
      "4\n",
      "5\n"
     ]
    }
   ],
   "source": [
    "# Eg-2: Lopping from i= 2 to i= 5\n",
    "\n",
    "for i in range(2,6):\n",
    "    print(i)"
   ]
  },
  {
   "cell_type": "code",
   "execution_count": 15,
   "metadata": {},
   "outputs": [
    {
     "name": "stdout",
     "output_type": "stream",
     "text": [
      "7\n",
      "6\n",
      "5\n",
      "4\n",
      "3\n",
      "2\n"
     ]
    }
   ],
   "source": [
    " # Eg-3: if we want to go in rverse direction, i = 7 to i = 2\n",
    "\n",
    "for i in range(7, 1, -1):\n",
    "    print(i)"
   ]
  },
  {
   "cell_type": "code",
   "execution_count": 23,
   "metadata": {},
   "outputs": [
    {
     "name": "stdout",
     "output_type": "stream",
     "text": [
      "2.5\n",
      "2\n",
      "-2\n",
      "-1\n"
     ]
    }
   ],
   "source": [
    "## Division is decimal division vy default\n",
    "print(5/2)\n",
    "\n",
    "# using // for integer division\n",
    "\n",
    "print(5//2)\n",
    "\n",
    "# negative integer division\n",
    "\n",
    "print(-3//2)\n",
    "\n",
    "print(int(-3/2) )# the desired way"
   ]
  },
  {
   "cell_type": "code",
   "execution_count": 32,
   "metadata": {},
   "outputs": [
    {
     "name": "stdout",
     "output_type": "stream",
     "text": [
      "1\n",
      "The wrong output ---> 2\n",
      "-1.0\n"
     ]
    }
   ],
   "source": [
    "# Modulo Operatior\n",
    "\n",
    "print(10%3) # ---> 1 this gives a remainder\n",
    "\n",
    "print (\"The wrong output --->\",-10%3) # ---> 1 thia result is unexpected\n",
    "\n",
    "# to fix the above issue, we can import the math library\n",
    "\n",
    "import math\n",
    "\n",
    "print(math.fmod(-10,3))"
   ]
  },
  {
   "cell_type": "code",
   "execution_count": 36,
   "metadata": {},
   "outputs": [
    {
     "name": "stdout",
     "output_type": "stream",
     "text": [
      "1\n",
      "2\n",
      "1.4142135623730951\n",
      "8.0\n",
      "inf\n",
      "-inf\n",
      "True\n"
     ]
    }
   ],
   "source": [
    "# More math helpers\n",
    "\n",
    "print(math.floor(3/2))\n",
    "print(math.ceil(3/2))\n",
    "print(math.sqrt(2))\n",
    "print(math.pow(2, 3))\n",
    "\n",
    "# Max / Min Int\n",
    "\n",
    "print(float(\"inf\")) # Max integer\n",
    "print(float(\"-inf\")) # Min integer\n",
    "\n",
    "print(math.pow(2, 500) < float(\"inf\")) \n"
   ]
  },
  {
   "cell_type": "code",
   "execution_count": null,
   "metadata": {},
   "outputs": [],
   "source": []
  }
 ],
 "metadata": {
  "kernelspec": {
   "display_name": "Python 3",
   "language": "python",
   "name": "python3"
  },
  "language_info": {
   "codemirror_mode": {
    "name": "ipython",
    "version": 3
   },
   "file_extension": ".py",
   "mimetype": "text/x-python",
   "name": "python",
   "nbconvert_exporter": "python",
   "pygments_lexer": "ipython3",
   "version": "3.11.3"
  },
  "orig_nbformat": 4
 },
 "nbformat": 4,
 "nbformat_minor": 2
}
